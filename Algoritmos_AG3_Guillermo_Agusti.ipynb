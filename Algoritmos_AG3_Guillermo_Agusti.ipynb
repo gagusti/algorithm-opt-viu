{
  "nbformat": 4,
  "nbformat_minor": 0,
  "metadata": {
    "colab": {
      "provenance": [],
      "toc_visible": true,
      "authorship_tag": "ABX9TyPKugpdcSZmX2A291Xwftjl",
      "include_colab_link": true
    },
    "kernelspec": {
      "name": "python3",
      "display_name": "Python 3"
    },
    "language_info": {
      "name": "python"
    }
  },
  "cells": [
    {
      "cell_type": "markdown",
      "metadata": {
        "id": "view-in-github",
        "colab_type": "text"
      },
      "source": [
        "<a href=\"https://colab.research.google.com/github/gagusti/algorithm-opt-viu/blob/main/Algoritmos_AG3_Guillermo_Agusti.ipynb\" target=\"_parent\"><img src=\"https://colab.research.google.com/assets/colab-badge.svg\" alt=\"Open In Colab\"/></a>"
      ]
    },
    {
      "cell_type": "markdown",
      "source": [
        "# AG3 - Actividad Guiada 3\n",
        "\n",
        "Guillermo Agusti\n",
        "\n",
        "GitHub: https://github.com/gagusti/algorithm-opt-viu/blob/main/Algoritmos_AG3_Guillermo_Agusti.ipynb"
      ],
      "metadata": {
        "id": "rpQbppAZ4I5a"
      }
    },
    {
      "cell_type": "code",
      "execution_count": 1,
      "metadata": {
        "colab": {
          "base_uri": "https://localhost:8080/"
        },
        "id": "c4jDpV_p4F-Q",
        "outputId": "93d2fc65-da36-40d3-e88b-d8c5c0ef9643"
      },
      "outputs": [
        {
          "output_type": "stream",
          "name": "stdout",
          "text": [
            "Looking in indexes: https://pypi.org/simple, https://us-python.pkg.dev/colab-wheels/public/simple/\n",
            "Requirement already satisfied: requests in /usr/local/lib/python3.10/dist-packages (2.27.1)\n",
            "Requirement already satisfied: urllib3<1.27,>=1.21.1 in /usr/local/lib/python3.10/dist-packages (from requests) (1.26.16)\n",
            "Requirement already satisfied: certifi>=2017.4.17 in /usr/local/lib/python3.10/dist-packages (from requests) (2023.5.7)\n",
            "Requirement already satisfied: charset-normalizer~=2.0.0 in /usr/local/lib/python3.10/dist-packages (from requests) (2.0.12)\n",
            "Requirement already satisfied: idna<4,>=2.5 in /usr/local/lib/python3.10/dist-packages (from requests) (3.4)\n",
            "Looking in indexes: https://pypi.org/simple, https://us-python.pkg.dev/colab-wheels/public/simple/\n",
            "Collecting tsplib95\n",
            "  Downloading tsplib95-0.7.1-py2.py3-none-any.whl (25 kB)\n",
            "Requirement already satisfied: Click>=6.0 in /usr/local/lib/python3.10/dist-packages (from tsplib95) (8.1.3)\n",
            "Collecting Deprecated~=1.2.9 (from tsplib95)\n",
            "  Downloading Deprecated-1.2.14-py2.py3-none-any.whl (9.6 kB)\n",
            "Collecting networkx~=2.1 (from tsplib95)\n",
            "  Downloading networkx-2.8.8-py3-none-any.whl (2.0 MB)\n",
            "\u001b[2K     \u001b[90m━━━━━━━━━━━━━━━━━━━━━━━━━━━━━━━━━━━━━━━━\u001b[0m \u001b[32m2.0/2.0 MB\u001b[0m \u001b[31m29.6 MB/s\u001b[0m eta \u001b[36m0:00:00\u001b[0m\n",
            "\u001b[?25hRequirement already satisfied: tabulate~=0.8.7 in /usr/local/lib/python3.10/dist-packages (from tsplib95) (0.8.10)\n",
            "Requirement already satisfied: wrapt<2,>=1.10 in /usr/local/lib/python3.10/dist-packages (from Deprecated~=1.2.9->tsplib95) (1.14.1)\n",
            "Installing collected packages: networkx, Deprecated, tsplib95\n",
            "  Attempting uninstall: networkx\n",
            "    Found existing installation: networkx 3.1\n",
            "    Uninstalling networkx-3.1:\n",
            "      Successfully uninstalled networkx-3.1\n",
            "Successfully installed Deprecated-1.2.14 networkx-2.8.8 tsplib95-0.7.1\n"
          ]
        }
      ],
      "source": [
        "!pip install requests    #Hacer llamadas http a paginas de la red\n",
        "!pip install tsplib95    #Modulo para las instancias del problema del TSP"
      ]
    },
    {
      "cell_type": "code",
      "source": [
        "import urllib.request #Hacer llamadas http a paginas de la red\n",
        "import tsplib95       #Modulo para las instancias del problema del TSP\n",
        "import math           #Modulo de funciones matematicas. Se usa para exp\n",
        "import random                     #Para generar valores aleatorios"
      ],
      "metadata": {
        "id": "I7mf2Ndl6IE_"
      },
      "execution_count": 2,
      "outputs": []
    },
    {
      "cell_type": "code",
      "source": [
        "#Descargamos el fichero de datos(Matriz de distancias)\n",
        "file = \"swiss42.tsp\" ;\n",
        "urllib.request.urlretrieve(\"http://comopt.ifi.uni-heidelberg.de/software/TSPLIB95/tsp/swiss42.tsp.gz\", file + '.gz')\n",
        "!gzip -d swiss42.tsp.gz     #Descomprimir el fichero de datos"
      ],
      "metadata": {
        "id": "NNDdWMea6x0R"
      },
      "execution_count": 3,
      "outputs": []
    },
    {
      "cell_type": "code",
      "source": [
        "#Carga de datos y generación de objeto problem\n",
        "###############################################################################\n",
        "problem = tsplib95.load(file)\n",
        "\n",
        "#Nodos\n",
        "Nodos = list(problem.get_nodes())\n",
        "\n",
        "#Aristas\n",
        "Aristas = list(problem.get_edges())"
      ],
      "metadata": {
        "id": "b_31g7tT6zAH"
      },
      "execution_count": 4,
      "outputs": []
    },
    {
      "cell_type": "code",
      "source": [
        "#Probamos algunas funciones del objeto problem\n",
        "\n",
        "#Distancia entre nodos\n",
        "problem.get_weight(0, 1)\n",
        "\n",
        "#Todas las funciones\n",
        "#Documentación: https://tsplib95.readthedocs.io/en/v0.6.1/modules.html\n",
        "\n",
        "#dir(problem)"
      ],
      "metadata": {
        "colab": {
          "base_uri": "https://localhost:8080/"
        },
        "id": "tsH40qFZ7F6W",
        "outputId": "12633d4f-723a-46bd-9952-3acc364d6eb9"
      },
      "execution_count": 5,
      "outputs": [
        {
          "output_type": "execute_result",
          "data": {
            "text/plain": [
              "15"
            ]
          },
          "metadata": {},
          "execution_count": 5
        }
      ]
    },
    {
      "cell_type": "code",
      "source": [
        "#Funcionas basicas\n",
        "###############################################################################\n",
        "\n",
        "#Se genera una solucion aleatoria con comienzo en en el nodo 0\n",
        "def crear_solucion(Nodos):\n",
        "  solucion = [Nodos[0]]\n",
        "  for n in Nodos[1:]:\n",
        "    solucion = solucion + [random.choice(list(set(Nodos) - set(solucion)))]\n",
        "  return solucion\n",
        "\n",
        "#Devuelve la distancia entre dos nodos\n",
        "def distancia(a,b, problem):\n",
        "  return problem.get_weight(a,b)\n",
        "\n",
        "#Devuelve la distancia total de una trayectoria/solucion\n",
        "def distancia_total(solucion, problem):\n",
        "  distancia_total = 0\n",
        "  for i in range(len(solucion)-1):\n",
        "    distancia_total += distancia(solucion[i] ,solucion[i+1] ,  problem)\n",
        "  return distancia_total + distancia(solucion[len(solucion)-1] ,solucion[0], problem)"
      ],
      "metadata": {
        "id": "lwgCVVXP7sq-"
      },
      "execution_count": 6,
      "outputs": []
    },
    {
      "cell_type": "markdown",
      "source": [
        "## Búsqueda Aleatoria"
      ],
      "metadata": {
        "id": "Uk9uKuL8_Ts9"
      }
    },
    {
      "cell_type": "code",
      "source": [
        "###############################################################################\n",
        "# BUSQUEDA ALEATORIA\n",
        "###############################################################################\n",
        "\n",
        "def busqueda_aleatoria(problem, N):\n",
        "  #N es el numero de iteraciones\n",
        "  Nodos = list(problem.get_nodes())\n",
        "\n",
        "  mejor_solucion = []\n",
        "  #mejor_distancia = 10e100                         #Inicializamos con un valor alto\n",
        "  mejor_distancia = float('inf')                    #Inicializamos con un valor alto\n",
        "\n",
        "  for i in range(N):                                #Criterio de parada: repetir N veces pero podemos incluir otros\n",
        "    solucion = crear_solucion(Nodos)                #Genera una solucion aleatoria\n",
        "    distancia = distancia_total(solucion, problem)  #Calcula el valor objetivo(distancia total)\n",
        "\n",
        "    if distancia < mejor_distancia:                 #Compara con la mejor obtenida hasta ahora\n",
        "      mejor_solucion = solucion\n",
        "      mejor_distancia = distancia\n",
        "\n",
        "\n",
        "  print(\"Mejor solución:\" , mejor_solucion)\n",
        "  print(\"Distancia     :\" , mejor_distancia)\n",
        "  return mejor_solucion\n",
        "\n",
        "\n",
        "#Busqueda aleatoria con 5000 iteraciones\n",
        "solucion = busqueda_aleatoria(problem, 100000)"
      ],
      "metadata": {
        "colab": {
          "base_uri": "https://localhost:8080/"
        },
        "id": "igIF4Qr3_PLY",
        "outputId": "c5ac0916-66a6-47a5-803f-6f3a1e2563ca"
      },
      "execution_count": 8,
      "outputs": [
        {
          "output_type": "stream",
          "name": "stdout",
          "text": [
            "Mejor solución: [0, 16, 11, 28, 19, 26, 3, 38, 24, 15, 29, 2, 17, 22, 27, 30, 14, 7, 4, 5, 13, 12, 10, 32, 20, 34, 33, 36, 35, 21, 39, 23, 40, 9, 8, 31, 37, 18, 25, 41, 1, 6]\n",
            "Distancia     : 3539\n"
          ]
        }
      ]
    },
    {
      "cell_type": "markdown",
      "source": [
        "## Búsqueda Local"
      ],
      "metadata": {
        "id": "STe3YgbPAaip"
      }
    },
    {
      "cell_type": "code",
      "source": [
        "###############################################################################\n",
        "# BUSQUEDA LOCAL\n",
        "###############################################################################\n",
        "def genera_vecina(solucion):\n",
        "  #Generador de soluciones vecinas: 2-opt (intercambiar 2 nodos) Si hay N nodos se generan (N-1)x(N-2)/2 soluciones\n",
        "  #Se puede modificar para aplicar otros generadores distintos que 2-opt\n",
        "  #print(solucion)\n",
        "  mejor_solucion = []\n",
        "  mejor_distancia = 10e100\n",
        "  for i in range(1,len(solucion)-1):          #Recorremos todos los nodos en bucle doble para evaluar todos los intercambios 2-opt\n",
        "    for j in range(i+1, len(solucion)):\n",
        "\n",
        "      #Se genera una nueva solución intercambiando los dos nodos i,j:\n",
        "      #  (usamos el operador + que para listas en python las concatena) : ej.: [1,2] + [3] = [1,2,3]\n",
        "      vecina = solucion[:i] + [solucion[j]] + solucion[i+1:j] + [solucion[i]] + solucion[j+1:]\n",
        "\n",
        "      #Se evalua la nueva solución ...\n",
        "      distancia_vecina = distancia_total(vecina, problem)\n",
        "\n",
        "      #... para guardarla si mejora las anteriores\n",
        "      if distancia_vecina <= mejor_distancia:\n",
        "        mejor_distancia = distancia_vecina\n",
        "        mejor_solucion = vecina\n",
        "  return mejor_solucion\n",
        "\n",
        "\n",
        "#solucion = [1, 47, 13, 41, 40, 19, 42, 44, 37, 5, 22, 28, 3, 2, 29, 21, 50, 34, 30, 9, 16, 11, 38, 49, 10, 39, 33, 45, 15, 24, 43, 26, 31, 36, 35, 20, 8, 7, 23, 48, 27, 12, 17, 4, 18, 25, 14, 6, 51, 46, 32]\n",
        "print(\"Distancia Solucion Incial:\" , distancia_total(solucion, problem))\n",
        "\n",
        "nueva_solucion = genera_vecina(solucion)\n",
        "print(\"Distancia Mejor Solucion Local:\", distancia_total(solucion, problem))"
      ],
      "metadata": {
        "colab": {
          "base_uri": "https://localhost:8080/"
        },
        "id": "X_GxmwSGAB2J",
        "outputId": "cd7053c0-b42d-447c-8ee4-f0b1d1665a10"
      },
      "execution_count": 16,
      "outputs": [
        {
          "output_type": "stream",
          "name": "stdout",
          "text": [
            "Distancia Solucion Incial: 4841\n",
            "Distancia Mejor Solucion Local: 4396\n"
          ]
        }
      ]
    },
    {
      "cell_type": "code",
      "source": [
        "#Busqueda Local:\n",
        "#  - Sobre el operador de vecindad 2-opt(funcion genera_vecina)\n",
        "#  - Sin criterio de parada, se para cuando no es posible mejorar.\n",
        "def busqueda_local(problem):\n",
        "  mejor_solucion = []\n",
        "\n",
        "  #Generar una solucion inicial de referencia(aleatoria)\n",
        "  solucion_referencia = crear_solucion(Nodos)\n",
        "  mejor_distancia = distancia_total(solucion_referencia, problem)\n",
        "\n",
        "  iteracion=0             #Un contador para saber las iteraciones que hacemos\n",
        "  while(1):\n",
        "    iteracion +=1         #Incrementamos el contador\n",
        "    #print('#',iteracion)\n",
        "\n",
        "    #Obtenemos la mejor vecina ...\n",
        "    vecina = genera_vecina(solucion_referencia)\n",
        "\n",
        "    #... y la evaluamos para ver si mejoramos respecto a lo encontrado hasta el momento\n",
        "    distancia_vecina = distancia_total(vecina, problem)\n",
        "\n",
        "    #Si no mejoramos hay que terminar. Hemos llegado a un minimo local(según nuestro operador de vencindad 2-opt)\n",
        "    if distancia_vecina < mejor_distancia:\n",
        "      #mejor_solucion = copy.deepcopy(vecina)   #Con copia profunda. Las copias en python son por referencia\n",
        "      mejor_solucion = vecina                   #Guarda la mejor solución encontrada\n",
        "      mejor_distancia = distancia_vecina\n",
        "\n",
        "    else:\n",
        "      print(\"En la iteracion \", iteracion, \", la mejor solución encontrada es:\" , mejor_solucion)\n",
        "      print(\"Distancia     :\" , mejor_distancia)\n",
        "      return mejor_solucion\n",
        "\n",
        "    solucion_referencia = vecina\n",
        "\n",
        "\n",
        "sol = busqueda_local(problem )"
      ],
      "metadata": {
        "colab": {
          "base_uri": "https://localhost:8080/"
        },
        "id": "5jxNU-V4Dldx",
        "outputId": "ef530abd-3d1d-4cb2-b1a6-33d87cabe884"
      },
      "execution_count": 28,
      "outputs": [
        {
          "output_type": "stream",
          "name": "stdout",
          "text": [
            "En la iteracion  36 , la mejor solución encontrada es: [0, 27, 2, 28, 30, 38, 22, 29, 3, 14, 37, 17, 31, 20, 33, 34, 32, 5, 13, 19, 16, 15, 36, 35, 7, 1, 8, 23, 41, 10, 4, 6, 26, 18, 12, 11, 25, 21, 40, 24, 39, 9]\n",
            "Distancia     : 1905\n"
          ]
        }
      ]
    },
    {
      "cell_type": "code",
      "source": [],
      "metadata": {
        "id": "Z-4T0cWKHI_R"
      },
      "execution_count": 27,
      "outputs": []
    }
  ]
}