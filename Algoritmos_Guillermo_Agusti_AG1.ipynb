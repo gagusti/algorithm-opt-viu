{
  "nbformat": 4,
  "nbformat_minor": 0,
  "metadata": {
    "colab": {
      "provenance": [],
      "authorship_tag": "ABX9TyNjL7aL2CLAVbbPXZ1SDPUG",
      "include_colab_link": true
    },
    "kernelspec": {
      "name": "python3",
      "display_name": "Python 3"
    },
    "language_info": {
      "name": "python"
    }
  },
  "cells": [
    {
      "cell_type": "markdown",
      "metadata": {
        "id": "view-in-github",
        "colab_type": "text"
      },
      "source": [
        "<a href=\"https://colab.research.google.com/github/gagusti/algorithm-opt-viu/blob/main/Algoritmos_Guillermo_Agusti_AG1.ipynb\" target=\"_parent\"><img src=\"https://colab.research.google.com/assets/colab-badge.svg\" alt=\"Open In Colab\"/></a>"
      ]
    },
    {
      "cell_type": "markdown",
      "source": [
        "# AG1 - Actividad Guiada 1\n",
        "\n",
        "Guillermo Agusti\n",
        "\n",
        "GitHub: https://github.com/gagusti/algorithm-opt-viu/blob/main/Algoritmos_Guillermo_Agusti_AG1.ipynb"
      ],
      "metadata": {
        "id": "QHZOb3A1ArTj"
      }
    },
    {
      "cell_type": "code",
      "execution_count": null,
      "metadata": {
        "id": "zURZkTha-4T6",
        "colab": {
          "base_uri": "https://localhost:8080/"
        },
        "outputId": "4ebf3c8c-12db-4d97-dea0-82c2d6854b35"
      },
      "outputs": [
        {
          "output_type": "stream",
          "name": "stdout",
          "text": [
            "Mover bloque desde 1 a 2\n",
            "Mover bloque desde 1 a 3\n",
            "Mover bloque desde 2 a 3\n",
            "Mover bloque desde 1 a 2\n",
            "Mover bloque desde 3 a 1\n",
            "Mover bloque desde 3 a 2\n",
            "Mover bloque desde 1 a 2\n",
            "Mover bloque desde 1 a 3\n",
            "Mover bloque desde 2 a 3\n",
            "Mover bloque desde 2 a 1\n",
            "Mover bloque desde 3 a 1\n",
            "Mover bloque desde 2 a 3\n",
            "Mover bloque desde 1 a 2\n",
            "Mover bloque desde 1 a 3\n",
            "Mover bloque desde 2 a 3\n"
          ]
        }
      ],
      "source": [
        "# Torres de Hanoi\n",
        "def torres_hanoi(N, origen, destino, pivote):\n",
        "    if N == 1:\n",
        "        print(f\"Mover bloque desde {origen} a {destino}\")\n",
        "        return\n",
        "\n",
        "    torres_hanoi(N-1, origen, pivote, destino)\n",
        "    print(f\"Mover bloque desde {origen} a {destino}\")\n",
        "    torres_hanoi(N-1, pivote, destino, origen)\n",
        "\n",
        "torres_hanoi(4, 1, 3, 2)"
      ]
    },
    {
      "cell_type": "markdown",
      "source": [
        "Cambio de monedas [25, 10, 5, 1]\n",
        "Definimos la función: cambio_monedas con dos parámetros: Cantidad a calcular y sistema monetario\n"
      ],
      "metadata": {
        "id": "c8LhPpa2Co-H"
      }
    },
    {
      "cell_type": "code",
      "source": [
        "# Devolver cambio\n",
        "\n",
        "def cambio_moneda(cantidad, sistema):\n",
        "  print(\"Sistema: \")\n",
        "  print(sistema)\n",
        "\n",
        "  solucion = [0 for _ in range(len(sistema))] #crea lista ceros (dimensión del sistema)\n",
        "  valor_acumulado = 0\n",
        "\n",
        "  for indice, valor in enumerate(sistema):\n",
        "    monedas=int((cantidad-valor_acumulado)/valor)\n",
        "    solucion[indice] = monedas\n",
        "    valor_acumulado += monedas*valor\n",
        "    if valor_acumulado == cantidad: break\n",
        "\n",
        "  return solucion\n",
        "\n",
        "sistema = [25,10,5,1]\n",
        "cambio_moneda(54, sistema)"
      ],
      "metadata": {
        "id": "OK6Bn7TsGVqU",
        "outputId": "6b7d7230-c12c-4dad-b8a7-365cd5e8bb7d",
        "colab": {
          "base_uri": "https://localhost:8080/"
        }
      },
      "execution_count": 3,
      "outputs": [
        {
          "output_type": "stream",
          "name": "stdout",
          "text": [
            "Sistema: \n",
            "[25, 10, 5, 1]\n"
          ]
        },
        {
          "output_type": "execute_result",
          "data": {
            "text/plain": [
              "[2, 0, 0, 4]"
            ]
          },
          "metadata": {},
          "execution_count": 3
        }
      ]
    },
    {
      "cell_type": "markdown",
      "source": [
        "Problema: Encontrar los números (puntos) más cercanos en una lista de números 1D y 2D (si se puede)"
      ],
      "metadata": {
        "id": "f9d5Y-K0InQw"
      }
    },
    {
      "cell_type": "code",
      "source": [],
      "metadata": {
        "id": "lZ2fp8KiJTeC"
      },
      "execution_count": null,
      "outputs": []
    }
  ]
}