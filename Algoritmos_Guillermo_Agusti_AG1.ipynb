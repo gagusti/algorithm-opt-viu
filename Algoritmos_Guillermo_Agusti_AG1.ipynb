{
  "nbformat": 4,
  "nbformat_minor": 0,
  "metadata": {
    "colab": {
      "provenance": [],
      "authorship_tag": "ABX9TyMIryrjFG+ekVqh+AvRqm1p",
      "include_colab_link": true
    },
    "kernelspec": {
      "name": "python3",
      "display_name": "Python 3"
    },
    "language_info": {
      "name": "python"
    }
  },
  "cells": [
    {
      "cell_type": "markdown",
      "metadata": {
        "id": "view-in-github",
        "colab_type": "text"
      },
      "source": [
        "<a href=\"https://colab.research.google.com/github/gagusti/algorithm-opt-viu/blob/main/Algoritmos_Guillermo_Agusti_AG1.ipynb\" target=\"_parent\"><img src=\"https://colab.research.google.com/assets/colab-badge.svg\" alt=\"Open In Colab\"/></a>"
      ]
    },
    {
      "cell_type": "markdown",
      "source": [
        "# AG1 - Actividad Guiada 1\n",
        "\n",
        "Guillermo Agusti\n",
        "\n",
        "GitHub: https://github.com/gagusti/algorithm-opt-viu/blob/main/Algoritmos_Guillermo_Agusti_AG1.ipynb"
      ],
      "metadata": {
        "id": "QHZOb3A1ArTj"
      }
    },
    {
      "cell_type": "code",
      "execution_count": null,
      "metadata": {
        "id": "zURZkTha-4T6",
        "colab": {
          "base_uri": "https://localhost:8080/"
        },
        "outputId": "4ebf3c8c-12db-4d97-dea0-82c2d6854b35"
      },
      "outputs": [
        {
          "output_type": "stream",
          "name": "stdout",
          "text": [
            "Mover bloque desde 1 a 2\n",
            "Mover bloque desde 1 a 3\n",
            "Mover bloque desde 2 a 3\n",
            "Mover bloque desde 1 a 2\n",
            "Mover bloque desde 3 a 1\n",
            "Mover bloque desde 3 a 2\n",
            "Mover bloque desde 1 a 2\n",
            "Mover bloque desde 1 a 3\n",
            "Mover bloque desde 2 a 3\n",
            "Mover bloque desde 2 a 1\n",
            "Mover bloque desde 3 a 1\n",
            "Mover bloque desde 2 a 3\n",
            "Mover bloque desde 1 a 2\n",
            "Mover bloque desde 1 a 3\n",
            "Mover bloque desde 2 a 3\n"
          ]
        }
      ],
      "source": [
        "# Torres de Hanoi\n",
        "def torres_hanoi(N, origen, destino, pivote):\n",
        "    if N == 1:\n",
        "        print(f\"Mover bloque desde {origen} a {destino}\")\n",
        "        return\n",
        "\n",
        "    torres_hanoi(N-1, origen, pivote, destino)\n",
        "    print(f\"Mover bloque desde {origen} a {destino}\")\n",
        "    torres_hanoi(N-1, pivote, destino, origen)\n",
        "\n",
        "torres_hanoi(4, 1, 3, 2)"
      ]
    },
    {
      "cell_type": "markdown",
      "source": [
        "Cambio de monedas [25, 10, 5, 1]\n",
        "Definimos la función: cambio_monedas con dos parámetros: Cantidad a calcular y sistema monetario\n"
      ],
      "metadata": {
        "id": "c8LhPpa2Co-H"
      }
    },
    {
      "cell_type": "code",
      "source": [
        "# Devolver cambio\n",
        "\n",
        "def cambio_moneda(cantidad, sistema):\n",
        "  print(\"Sistema: \")\n",
        "  print(sistema)\n",
        "\n",
        "  solucion = [0 for _ in range(len(sistema))] #crea lista ceros (dimensión del sistema)\n",
        "  valor_acumulado = 0\n",
        "\n",
        "  for indice, valor in enumerate(sistema):\n",
        "    monedas=int((cantidad-valor_acumulado)/valor)\n",
        "    solucion[indice] = monedas\n",
        "    valor_acumulado += monedas*valor\n",
        "    if valor_acumulado == cantidad: break\n",
        "\n",
        "  return solucion\n",
        "\n",
        "sistema = [25,10,5,1]\n",
        "cambio_moneda(54, sistema)"
      ],
      "metadata": {
        "id": "OK6Bn7TsGVqU"
      },
      "execution_count": null,
      "outputs": []
    },
    {
      "cell_type": "markdown",
      "source": [
        "**Problema:** Encontrar los dos puntos más cercanos en una lista de números 1D, 2D y 3D.\n",
        "\n",
        "El primer algoritmo planteado es por fuerza bruta. En forma resumida lo que hace es recorrer la lista de n puntos y calcula la distancia de los n-1 puntos, en forma consecutiva uno a uno para poder determinar cual es el mínimo valor etre los n puntos.\n",
        "\n",
        "**Análisis de la Complejidad Temporal**\n",
        "* (1) 2 Asignaciones\n",
        "* (2) n asignaciones\n",
        "* (3) n*m asignaciones\n",
        "* (4) n*m cálculo de la distancia\n",
        "* (5) n*m validación de la distancia y el mínimo\n",
        "* (6) 3(n-1) asignaciones de valor de distancia y puntos que corresponden a la distancia mínima\n"
      ],
      "metadata": {
        "id": "f9d5Y-K0InQw"
      }
    },
    {
      "cell_type": "code",
      "source": [
        "# Algoritmo para encontrar dos puntos más cercanos por fuerza bruta\n",
        "import random\n",
        "\n",
        "def nearest_points_bf(points):\n",
        "  n_points = [0,0]  # (1)\n",
        "  min_distance = -1 # (1)\n",
        "  for i in range(len(points)):  # (2)\n",
        "    for j in range(1, len(points)-1): # (3)\n",
        "      distance = abs(points[i] - points[j]) # (4)\n",
        "      if distance > 0 and (min_distance < 0 or min_distance > distance):  #(5)\n",
        "        min_distance = distance #(6)\n",
        "        n_points[0] = points[i] #(6)\n",
        "        n_points[1] = points[j] #(6)\n",
        "  return n_points\n",
        "\n",
        "# points = [3403, 4537, 9089, 9746, 7259]\n",
        "# print(nearest_points_bf(points))\n",
        "points = random.sample(range(100, 99999), 10000)\n",
        "print(nearest_points_bf(points))\n",
        "#print(points)"
      ],
      "metadata": {
        "id": "lZ2fp8KiJTeC"
      },
      "execution_count": null,
      "outputs": []
    },
    {
      "cell_type": "markdown",
      "source": [
        "Se puede mejorar creando un Algoritmo con la Técnica de Divide y Vencerás, además con recursión recorriendo las distintas particiones hechas a las lista y calculando las distancias para determinar cuál es la mínima. Para el cálculo de las distancias en el caso de la lista 1D se utilizó la distancia entre dos puntos calculando su valor absoluto (distancia del intérvalo) y en el caso de las listas 2D y 3D, utilizo la distancia Euclidiana.\n",
        "\n",
        "**Análisis de Complejidad Temporal**\n",
        "Con este algoritmo se reduce la complejidad a lineal $O(n)$ con la utilización de la técnica iterativa."
      ],
      "metadata": {
        "id": "qcs6bqnrh4Bk"
      }
    },
    {
      "cell_type": "code",
      "source": [
        "# Algoritmo para encontrar dos puntos 1D más cercanos con la técnica de Divide y Vencerás\n",
        "import random\n",
        "\n",
        "def check_minimum(p1, p2, distance, min_distance, min_points):\n",
        "  if distance > 0 and (min_distance < 0 or min_distance > distance):\n",
        "    return p1, p2, distance\n",
        "  return min_points[0], min_points[1], min_distance\n",
        "\n",
        "def nearest_points_dc(points, low, high):\n",
        "  min_distance = -1\n",
        "  n_points = [0,0]\n",
        "  last_point = 0\n",
        "  size = high-low\n",
        "\n",
        "  if size == 2:\n",
        "    return points[low], points[high-1], abs(points[low]-points[high-1])\n",
        "\n",
        "  if size % 2 == 0:\n",
        "    end_point = size // 2\n",
        "    p1, p2, dist = nearest_points_dc(points, 0, end_point)\n",
        "    n_points[0], n_points[1], min_distance = check_minimum(p1, p2, dist, min_distance, n_points)\n",
        "  else:\n",
        "    start_point = (size - 1) // 2\n",
        "    last_point = points[size - 1]\n",
        "    p1, p2, dist = nearest_points_dc(points, start_point, len(points) - 1)\n",
        "    n_points[0], n_points[1], min_distance = check_minimum(p1, p2, dist, min_distance, n_points)\n",
        "\n",
        "    if last_point > 0:\n",
        "      if abs(n_points[0]-last_point) < min_distance:\n",
        "        min_distance = abs(n_points[0]-last_point)\n",
        "        n_points[1] = last_point\n",
        "      elif abs(n_points[1]-last_point) < min_distance:\n",
        "        min_distance = abs(n_points[1]-last_point)\n",
        "        n_points[1] = last_point\n",
        "\n",
        "  return n_points[0], n_points[1], min_distance\n",
        "\n",
        "points_1D = [random.randrange(1, 10000) for x in range(10000)]\n",
        "print(points_1D)\n",
        "print(nearest_points_dc(points_1D, 0, len(points_1D)))"
      ],
      "metadata": {
        "id": "gFJXMzYRJf4J"
      },
      "execution_count": null,
      "outputs": []
    },
    {
      "cell_type": "code",
      "source": [
        "# Algoritmo para encontrar dos puntos 2D y 3D más cercanos con la técnica de Divide y Vencerás\n",
        "import random\n",
        "import math\n",
        "\n",
        "def euclidean_distance(p, q):\n",
        "  dist = 0\n",
        "  for i in range(len(p)):\n",
        "      dist += (p[i] - q[i])**2\n",
        "  return math.sqrt(dist)\n",
        "\n",
        "def check_minimum(p1, p2, distance, min_distance, min_points):\n",
        "  if distance[0] > 0 and (min_distance < 0 or min_distance > distance[0]):\n",
        "    return p1, p2, distance[0]\n",
        "  return min_points[0], min_points[1], min_distance\n",
        "\n",
        "def nearest_points_nd_dc(points, low, high):\n",
        "  min_distance = -1\n",
        "  n_points = [(),()]\n",
        "  last_point = ()\n",
        "  size = high-low\n",
        "\n",
        "  if size == 2:\n",
        "    return points[low], points[high-1], (euclidean_distance(points[low], points[high-1]),0)\n",
        "\n",
        "  if size % 2 == 0:\n",
        "    end_point = size // 2\n",
        "    p1, p2, dist = nearest_points_nd_dc(points, 0, end_point)\n",
        "    n_points[0], n_points[1], min_distance = check_minimum(p1, p2, dist, min_distance, n_points)\n",
        "  else:\n",
        "    start_point = (size - 1) // 2\n",
        "    last_point = points[size - 1]\n",
        "    p1, p2, dist = nearest_points_nd_dc(points, start_point, len(points) - 1)\n",
        "    n_points[0], n_points[1], min_distance = check_minimum(p1, p2, dist, min_distance, n_points)\n",
        "\n",
        "    if last_point[0] > 0 and last_point[1] > 0:\n",
        "      if euclidean_distance(n_points[0],last_point) < min_distance:\n",
        "        min_distance = euclidean_distance(n_points[0],last_point)\n",
        "        n_points[1] = last_point\n",
        "      elif euclidean_distance(n_points[1],last_point) < min_distance:\n",
        "        min_distance = euclidean_distance(n_points[1],last_point)\n",
        "        n_points[1] = last_point\n",
        "\n",
        "  return n_points[0], n_points[1], (min_distance, 0)\n",
        "\n",
        "points_2D = [(random.randrange(1, 10000),random.randrange(1, 10000))  for x in range(10000)]\n",
        "print(points_2D)\n",
        "print(nearest_points_nd_dc(points_2D, 0, len(points_2D)))\n",
        "points_3D = [(random.randrange(1, 10000),random.randrange(1, 10000),random.randrange(1, 10000))  for x in range(10000)]\n",
        "print(points_3D)\n",
        "print(nearest_points_nd_dc(points_3D, 0, len(points_3D)))"
      ],
      "metadata": {
        "id": "P9vwU_mc6VAw"
      },
      "execution_count": null,
      "outputs": []
    },
    {
      "cell_type": "markdown",
      "source": [
        "Con esta técnica de Divide y Vencerás y recursividad parecería que no podría mejorarse más de lo que está, ya que el algoritmo tiene que ser exahustivo y recorrer todos los puntos en la lista, es decir, no podríamos hacer backtracking para solo evaluar los mínimos en el camino, ya que no tenemos distancias calculadas entre los puntos y debemos calcularlas a medida que avanzamos.\n",
        "\n",
        "Existen otros algoritmos para calcular la mínima distancia entre dos puntos o el punto más cercano.\n",
        "\n",
        "## Triangulación Delaunay\n",
        "\n",
        "Este es el algoritmo denominado Triangulación Delaunay (también conocido como Delone). Este algoritmo confia en operaciones rápidas para detectar cuando un punto está dentro de un triángulo circumcirculo y una eficiente estructura de datos para almacenar triángulos y vértices. En dos dimensiones una forma de detectar si un punto D cae en un circumcirculo de A,B,C es evaluando el determinate:\n",
        "\n",
        "\\begin{align*}\n",
        "\\begin{vmatrix}\n",
        "A_x & A_y & A_x^2+A_y^2 & 1\\\\\n",
        "B_x & B_y & B_x^2+B_y^2 & 1\\\\\n",
        "C_x & C_y & C_x^2+C_y^2 & 1\\\\\n",
        "D_x & D_y & D_x^2+_y^2 &  1\n",
        "\\end{vmatrix}\n",
        "&=\n",
        "\\begin{vmatrix}\n",
        "A_x - D_x & A_y - D_y & (A_x - D_x)^2 + (A_y - D_y)^2 \\\\\n",
        "B_x - D_x & B_y - D_y & (B_x - D_x)^2 + (B_y - D_y)^2 \\\\\n",
        "C_x - D_x & C_y - D_y & (C_x - D_x)^2 + (C_y - D_y)^2 \\\\\n",
        "\\end{vmatrix}> 0\n",
        "\\end{align*}\n",
        "\n",
        "\n",
        "![Point_inside_circle_-_Delaunay.jpg](data:image/jpeg;base64,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)\n",
        "\n",
        "**Punto D dentro del circumcirculo de A,B,C**\n",
        "[Fuente Wikipedia](https://en.wikipedia.org/wiki/Delaunay_triangulation#:~:text=In%20mathematics%20and%20computational%20geometry,triangle%20in%20DT(P).)\n",
        "\n",
        "Cuando A,B,C están dispuestas en sentido a las agujas del reloj, el determinante es positivo solo si D cae dentro del circumcirculo.\n",
        "\n",
        "### Algoritmo con la técnica de rotación\n",
        "Si el triángulo no es Delaunay, podemos rotar uno de sus vértices. Esto lleva a un algoritmo simple, entonces consiste en contruir cualquier triangulación entre los puntos y rotar los vértices a hasta que no haya triángulos no Delaunay. Esto puede llevar $\\Omega(n^2)$ rotaciones de vértices.\n",
        "\n",
        "### Incremental\n",
        "\n",
        "Con esta técnica se agrega repetidamente un vértice a la vez, haciendo la trinagulación de las partes del gráfico.  Cuando se agrega el vértice v, se divide en tres el triángulo que contiene a v, entonces se aplica el algoritmo de rotación. Esto lleva el tiempo de $O(n)$, busca todos los triángulos para encontrar uno que contiene v, de esta forma se rotan todos los triángulos. Toda la ejecución es de $O(n^2)$.\n",
        "En promedio, la complejidad es de $O(log n)$.\n",
        "\n",
        " ### Divide y Vencerás\n",
        "En este algoritmo recursivamente dibuja una línea para dividir los vértices en dos conjuntos. Mediante triangulación se computa cada conjunto y los dos conjuntos son unidos a lo largo de la línea de separación. Usando algunos trucos inteligentes, la opración de unión y mezcla puede realizarse en tiempo $O(n)$ y el tiempo total de ejecución es de $O(n log n)$.\n",
        "\n",
        "Para ciertos conjuntos de puntos, a través de una distribusión uniforme al azar y tomando en forma inteligente la líneas de división, el tiempo promedio puede ser reducido a $O(n log log n)$ y se mantiene aún en el peor caso.\n",
        "\n",
        "El paradigma de divide y vencerás para ejecutar la triangulación de d dimensiones es presentado en \"DeWall: A fast divide and conquer Delaunay triangulation algorithm in Ed\" by P. Cignoni, C. Montani, R. Scopigno.\n",
        "\n",
        "\n",
        "Por ejemplo, MATLAB usa triangulación Delaunay en su comando de búsqueda de puntos cercanos.\n",
        "\n",
        "[Nearest point search - MATLAB](https://www.mathworks.com/help/matlab/ref/dsearchn.html)\n",
        "\n",
        "### Referencias\n",
        "[Delaunay triangulation](https://en.wikipedia.org/wiki/Delaunay_triangulation#:~:text=In%20mathematics%20and%20computational%20geometry,triangle%20in%20DT(P).)\n",
        "\n",
        "[DeWall: A fast divide and conquer Delaunay triangulation algorithm in Ed by P. Cignoni, C. Montani, R. Scopigno](https://www.sciencedirect.com/science/article/abs/pii/S0010448597000821?via%3Dihub)\n"
      ],
      "metadata": {
        "id": "L9Zde7AT7zCe"
      }
    },
    {
      "cell_type": "code",
      "source": [],
      "metadata": {
        "id": "I5-_d7_vFSSt"
      },
      "execution_count": null,
      "outputs": []
    }
  ]
}