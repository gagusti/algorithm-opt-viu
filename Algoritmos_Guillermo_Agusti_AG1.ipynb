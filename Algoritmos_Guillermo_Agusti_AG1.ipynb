{
  "nbformat": 4,
  "nbformat_minor": 0,
  "metadata": {
    "colab": {
      "provenance": [],
      "authorship_tag": "ABX9TyNxW/FWVqDzoYIRXCJRzzCJ",
      "include_colab_link": true
    },
    "kernelspec": {
      "name": "python3",
      "display_name": "Python 3"
    },
    "language_info": {
      "name": "python"
    }
  },
  "cells": [
    {
      "cell_type": "markdown",
      "metadata": {
        "id": "view-in-github",
        "colab_type": "text"
      },
      "source": [
        "<a href=\"https://colab.research.google.com/github/gagusti/algorithm-opt-viu/blob/main/Algoritmos_Guillermo_Agusti_AG1.ipynb\" target=\"_parent\"><img src=\"https://colab.research.google.com/assets/colab-badge.svg\" alt=\"Open In Colab\"/></a>"
      ]
    },
    {
      "cell_type": "markdown",
      "source": [
        "# AG1 - Actividad Guiada 1\n",
        "\n",
        "Guillermo Agusti\n",
        "\n",
        "GitHub: https://github.com/gagusti/algorithm-opt-viu/blob/main/Algoritmos_Guillermo_Agusti_AG1.ipynb"
      ],
      "metadata": {
        "id": "QHZOb3A1ArTj"
      }
    },
    {
      "cell_type": "code",
      "execution_count": null,
      "metadata": {
        "id": "zURZkTha-4T6",
        "colab": {
          "base_uri": "https://localhost:8080/"
        },
        "outputId": "4ebf3c8c-12db-4d97-dea0-82c2d6854b35"
      },
      "outputs": [
        {
          "output_type": "stream",
          "name": "stdout",
          "text": [
            "Mover bloque desde 1 a 2\n",
            "Mover bloque desde 1 a 3\n",
            "Mover bloque desde 2 a 3\n",
            "Mover bloque desde 1 a 2\n",
            "Mover bloque desde 3 a 1\n",
            "Mover bloque desde 3 a 2\n",
            "Mover bloque desde 1 a 2\n",
            "Mover bloque desde 1 a 3\n",
            "Mover bloque desde 2 a 3\n",
            "Mover bloque desde 2 a 1\n",
            "Mover bloque desde 3 a 1\n",
            "Mover bloque desde 2 a 3\n",
            "Mover bloque desde 1 a 2\n",
            "Mover bloque desde 1 a 3\n",
            "Mover bloque desde 2 a 3\n"
          ]
        }
      ],
      "source": [
        "# Torres de Hanoi\n",
        "def torres_hanoi(N, origen, destino, pivote):\n",
        "    if N == 1:\n",
        "        print(f\"Mover bloque desde {origen} a {destino}\")\n",
        "        return\n",
        "\n",
        "    torres_hanoi(N-1, origen, pivote, destino)\n",
        "    print(f\"Mover bloque desde {origen} a {destino}\")\n",
        "    torres_hanoi(N-1, pivote, destino, origen)\n",
        "\n",
        "torres_hanoi(4, 1, 3, 2)"
      ]
    },
    {
      "cell_type": "markdown",
      "source": [
        "Cambio de monedas [25, 10, 5, 1]\n",
        "Definimos la función: cambio_monedas con dos parámetros: Cantidad a calcular y sistema monetario\n"
      ],
      "metadata": {
        "id": "c8LhPpa2Co-H"
      }
    },
    {
      "cell_type": "code",
      "source": [
        "# Devolver cambio\n",
        "\n",
        "def cambio_moneda(cantidad, sistema):\n",
        "  print(\"Sistema: \")\n",
        "  print(sistema)\n",
        "\n",
        "  solucion = [0 for _ in range(len(sistema))] #crea lista ceros (dimensión del sistema)\n",
        "  valor_acumulado = 0\n",
        "\n",
        "  for indice, valor in enumerate(sistema):\n",
        "    monedas=int((cantidad-valor_acumulado)/valor)\n",
        "    solucion[indice] = monedas\n",
        "    valor_acumulado += monedas*valor\n",
        "    if valor_acumulado == cantidad: break\n",
        "\n",
        "  return solucion\n",
        "\n",
        "sistema = [25,10,5,1]\n",
        "cambio_moneda(54, sistema)"
      ],
      "metadata": {
        "id": "OK6Bn7TsGVqU",
        "outputId": "6b7d7230-c12c-4dad-b8a7-365cd5e8bb7d",
        "colab": {
          "base_uri": "https://localhost:8080/"
        }
      },
      "execution_count": 3,
      "outputs": [
        {
          "output_type": "stream",
          "name": "stdout",
          "text": [
            "Sistema: \n",
            "[25, 10, 5, 1]\n"
          ]
        },
        {
          "output_type": "execute_result",
          "data": {
            "text/plain": [
              "[2, 0, 0, 4]"
            ]
          },
          "metadata": {},
          "execution_count": 3
        }
      ]
    },
    {
      "cell_type": "markdown",
      "source": [
        "Problema: Encontrar los números (puntos) más cercanos en una lista de números 1D y 2D (si se puede)"
      ],
      "metadata": {
        "id": "f9d5Y-K0InQw"
      }
    },
    {
      "cell_type": "code",
      "source": [
        "# Algoritmo para encontrar dos puntos más cercanos por fuerza bruta\n",
        "import random\n",
        "\n",
        "def nearest_points_bf(points):\n",
        "  n_points = [0,0]\n",
        "  min_distance = -1\n",
        "  for i in range(len(points)):\n",
        "    for j in range(1, len(points)-1):\n",
        "      distance = abs(points[i] - points[j])\n",
        "      if distance > 0 and (min_distance < 0 or min_distance > distance):\n",
        "        min_distance = distance\n",
        "        n_points[0] = points[i]\n",
        "        n_points[1] = points[j]\n",
        "  return n_points\n",
        "\n",
        "points = [3403, 4537, 9089, 9746, 7259]\n",
        "print(nearest_points_bf(points))\n",
        "points = random.sample(range(100, 99999), 10000)\n",
        "print(nearest_points_bf(points))\n",
        "#print(points)"
      ],
      "metadata": {
        "id": "lZ2fp8KiJTeC",
        "colab": {
          "base_uri": "https://localhost:8080/"
        },
        "outputId": "199c3926-c60e-4f39-9b9f-bb18ada404af"
      },
      "execution_count": 19,
      "outputs": [
        {
          "output_type": "stream",
          "name": "stdout",
          "text": [
            "[9089, 9746]\n",
            "[60149, 60150]\n"
          ]
        }
      ]
    },
    {
      "cell_type": "code",
      "source": [
        "def nearest_points_dc(points):\n",
        "  min_distance = -1\n",
        "  n_points = [0,0]\n",
        "  last_point = 0\n",
        "\n",
        "  if len(points) == 2:\n",
        "    return points[0], points[1], abs(points[0]-points[1])\n",
        "\n",
        "  if len(points) % 2 == 0:\n",
        "    divide_pos = len(points) / 2\n",
        "  else:\n",
        "    divide_pos = (len(points) - 1)/2\n",
        "    last_point = points[len(points) - 1]\n",
        "\n",
        "  p1, p2, dist1 = nearest_points_dc(points[:divide_pos])\n",
        "  if dist1 > 0 and (min_distance < 0 or min_distance > dist1):\n",
        "    min_distance = dist1\n",
        "    n_points[0] = p1\n",
        "    n_points[1] = p2\n",
        "\n",
        "  p3, p4, dist2 = nearest_points_dc(points[divide_pos:])\n",
        "\n",
        "  if dist2 > 0 and (min_distance < 0 or min_distance > dist2):\n",
        "    min_distance = dist1\n",
        "    n_points[0] = p1\n",
        "    n_points[1] = p2\n",
        "\n",
        "  if last_point > 0\n",
        "    if abs(n_points[0]-last_point) < min_distance:\n",
        "      min_distance = abs(n_points[0]-last_point)\n",
        "      n_points[1] = last_point\n",
        "    elif abs(n_points[1]-last_point) < min_distance):\n",
        "      min_distance = abs(n_points[1]-last_point)\n",
        "      n_points[1] = last_point\n",
        "\n",
        "  return n_points[0], n_points[1], min_distance\n",
        "\n",
        " points = [3403, 4537, 9089, 9746, 7259]\n",
        "print(nearest_points_bf(points))"
      ],
      "metadata": {
        "id": "gFJXMzYRJf4J"
      },
      "execution_count": null,
      "outputs": []
    }
  ]
}