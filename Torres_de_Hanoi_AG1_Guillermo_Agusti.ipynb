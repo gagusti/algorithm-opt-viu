{
  "nbformat": 4,
  "nbformat_minor": 0,
  "metadata": {
    "colab": {
      "provenance": [],
      "authorship_tag": "ABX9TyNbvN9gEwA/l1IvWRy7CFct",
      "include_colab_link": true
    },
    "kernelspec": {
      "name": "python3",
      "display_name": "Python 3"
    },
    "language_info": {
      "name": "python"
    }
  },
  "cells": [
    {
      "cell_type": "markdown",
      "metadata": {
        "id": "view-in-github",
        "colab_type": "text"
      },
      "source": [
        "<a href=\"https://colab.research.google.com/github/gagusti/algorithm-opt-viu/blob/main/Torres_de_Hanoi_AG1_Guillermo_Agusti.ipynb\" target=\"_parent\"><img src=\"https://colab.research.google.com/assets/colab-badge.svg\" alt=\"Open In Colab\"/></a>"
      ]
    },
    {
      "cell_type": "code",
      "execution_count": null,
      "metadata": {
        "id": "zURZkTha-4T6"
      },
      "outputs": [],
      "source": [
        "def torres_hanoi(N, origen, destino, pivote):\n",
        "    if N == 1:\n",
        "        print(f\"Mover bloque desde {origen} a {destino}\")\n",
        "        return\n",
        "    torres_hanoi(N-1, origen, pivote, destino)\n",
        "    print(f\"Mover bloque desde {origen} a {destino}\")\n",
        "    torres_hanoi(N-1, pivote, destino, origen)\n",
        "\n",
        "torres_hanoi(4, 1, 3, 2)"
      ]
    }
  ]
}