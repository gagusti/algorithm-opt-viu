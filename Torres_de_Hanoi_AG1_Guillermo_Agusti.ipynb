{
  "nbformat": 4,
  "nbformat_minor": 0,
  "metadata": {
    "colab": {
      "provenance": [],
      "authorship_tag": "ABX9TyMuOuhHW6xuy8BpbKY+ZICL",
      "include_colab_link": true
    },
    "kernelspec": {
      "name": "python3",
      "display_name": "Python 3"
    },
    "language_info": {
      "name": "python"
    }
  },
  "cells": [
    {
      "cell_type": "markdown",
      "metadata": {
        "id": "view-in-github",
        "colab_type": "text"
      },
      "source": [
        "<a href=\"https://colab.research.google.com/github/gagusti/algorithm-opt-viu/blob/main/Torres_de_Hanoi_AG1_Guillermo_Agusti.ipynb\" target=\"_parent\"><img src=\"https://colab.research.google.com/assets/colab-badge.svg\" alt=\"Open In Colab\"/></a>"
      ]
    },
    {
      "cell_type": "markdown",
      "source": [
        "# Actividad Guiada 1\n",
        "\n",
        "Guillermo Agusti\n",
        "\n",
        "GitHub: https://github.com/gagusti/algorithm-opt-viu/blob/main/Torres_de_Hanoi_AG1_Guillermo_Agusti.ipynb"
      ],
      "metadata": {
        "id": "QHZOb3A1ArTj"
      }
    },
    {
      "cell_type": "code",
      "execution_count": 1,
      "metadata": {
        "id": "zURZkTha-4T6",
        "colab": {
          "base_uri": "https://localhost:8080/"
        },
        "outputId": "4ebf3c8c-12db-4d97-dea0-82c2d6854b35"
      },
      "outputs": [
        {
          "output_type": "stream",
          "name": "stdout",
          "text": [
            "Mover bloque desde 1 a 2\n",
            "Mover bloque desde 1 a 3\n",
            "Mover bloque desde 2 a 3\n",
            "Mover bloque desde 1 a 2\n",
            "Mover bloque desde 3 a 1\n",
            "Mover bloque desde 3 a 2\n",
            "Mover bloque desde 1 a 2\n",
            "Mover bloque desde 1 a 3\n",
            "Mover bloque desde 2 a 3\n",
            "Mover bloque desde 2 a 1\n",
            "Mover bloque desde 3 a 1\n",
            "Mover bloque desde 2 a 3\n",
            "Mover bloque desde 1 a 2\n",
            "Mover bloque desde 1 a 3\n",
            "Mover bloque desde 2 a 3\n"
          ]
        }
      ],
      "source": [
        "def torres_hanoi(N, origen, destino, pivote):\n",
        "    if N == 1:\n",
        "        print(f\"Mover bloque desde {origen} a {destino}\")\n",
        "        return\n",
        "        \n",
        "    torres_hanoi(N-1, origen, pivote, destino)\n",
        "    print(f\"Mover bloque desde {origen} a {destino}\")\n",
        "    torres_hanoi(N-1, pivote, destino, origen)\n",
        "\n",
        "torres_hanoi(4, 1, 3, 2)"
      ]
    }
  ]
}